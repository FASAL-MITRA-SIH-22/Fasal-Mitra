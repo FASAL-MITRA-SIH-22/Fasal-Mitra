{
 "cells": [
  {
   "cell_type": "code",
   "execution_count": 30,
   "metadata": {},
   "outputs": [],
   "source": [
    "import shutil\n",
    "import os\n",
    "import regex as re"
   ]
  },
  {
   "cell_type": "code",
   "execution_count": 65,
   "metadata": {},
   "outputs": [
    {
     "data": {
      "text/plain": [
       "['Tomato', 'Potato', 'Pepper_bell']"
      ]
     },
     "execution_count": 65,
     "metadata": {},
     "output_type": "execute_result"
    }
   ],
   "source": [
    "basepath = '../archive/PlantVillage'\n",
    "\n",
    "dirs = os.listdir(basepath)\n",
    "\n",
    "classNames = list(set([(i.split(\"__\"))[0] for i in dirs]))\n",
    "classNames"
   ]
  },
  {
   "cell_type": "code",
   "execution_count": 68,
   "metadata": {},
   "outputs": [],
   "source": [
    "\n",
    "for dir in classNames:\n",
    "    try:\n",
    "        os.makedirs('../data/'+dir)\n",
    "    except: pass"
   ]
  },
  {
   "cell_type": "code",
   "execution_count": 86,
   "metadata": {},
   "outputs": [
    {
     "name": "stdout",
     "output_type": "stream",
     "text": [
      "../archive/PlantVillage/Pepper_bell__Bacterial_spot\n",
      "../archive/PlantVillage/Pepper_bell__healthy\n",
      "../archive/PlantVillage/Potato__Early_blight\n",
      "../archive/PlantVillage/Potato__healthy\n",
      "../archive/PlantVillage/Potato__Late_blight\n",
      "../archive/PlantVillage/Tomato__Bacterial_spot\n",
      "../archive/PlantVillage/Tomato__Early_blight\n",
      "../archive/PlantVillage/Tomato__healthy\n",
      "../archive/PlantVillage/Tomato__Late_blight\n",
      "../archive/PlantVillage/Tomato__Leaf_Mold\n",
      "../archive/PlantVillage/Tomato__Septoria_leaf_spot\n",
      "../archive/PlantVillage/Tomato__Spider_mites_Two_spotted_spider_mite\n",
      "../archive/PlantVillage/Tomato__Target_Spot\n",
      "../archive/PlantVillage/Tomato__Tomato_mosaic_virus\n",
      "../archive/PlantVillage/Tomato__Tomato_YellowLeaf__Curl_Virus\n"
     ]
    }
   ],
   "source": [
    "subdirs = list([(i.split(\"__\")) for i in dirs])\n",
    "subdirs\n",
    "\n",
    "source_dir = '../archive/PlantVillage/'\n",
    "target_dir = '../data'\n",
    "# shutil.move(os.path.join(source_dir, file_name), target_dir)\n",
    "for dir in dirs:\n",
    "    print('../archive/PlantVillage/'+dir)\n",
    "    shutil.move(os.path.join(source_dir, dir), os.path.join(target_dir,dir.split('__')[0]+'/'+dir.split('__')[1]))\n",
    "    # shutil.copy('../archive/PlantVillage/'+dir,'../data/'+dir.split('__')[0]+dir.split('__')[1])\n"
   ]
  }
 ],
 "metadata": {
  "interpreter": {
   "hash": "99e2746e4555f88759d2b41aa7e330c735e7f4d30e7e63d3c75abd8c07d36ad7"
  },
  "kernelspec": {
   "display_name": "Python 3.10.0 ('gputest')",
   "language": "python",
   "name": "python3"
  },
  "language_info": {
   "codemirror_mode": {
    "name": "ipython",
    "version": 3
   },
   "file_extension": ".py",
   "mimetype": "text/x-python",
   "name": "python",
   "nbconvert_exporter": "python",
   "pygments_lexer": "ipython3",
   "version": "3.10.0"
  },
  "orig_nbformat": 4
 },
 "nbformat": 4,
 "nbformat_minor": 2
}
