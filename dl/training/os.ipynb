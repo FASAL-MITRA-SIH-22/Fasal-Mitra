{
 "cells": [
  {
   "cell_type": "code",
   "execution_count": 1,
   "metadata": {},
   "outputs": [],
   "source": [
    "import shutil\n",
    "import os\n",
    "import regex as re"
   ]
  },
  {
   "cell_type": "code",
   "execution_count": 2,
   "metadata": {},
   "outputs": [
    {
     "ename": "FileNotFoundError",
     "evalue": "[WinError 3] The system cannot find the path specified: '../archive/PlantVillage'",
     "output_type": "error",
     "traceback": [
      "\u001b[1;31m---------------------------------------------------------------------------\u001b[0m",
      "\u001b[1;31mFileNotFoundError\u001b[0m                         Traceback (most recent call last)",
      "\u001b[1;32m~\\AppData\\Local\\Temp/ipykernel_28420/3503958607.py\u001b[0m in \u001b[0;36m<module>\u001b[1;34m\u001b[0m\n\u001b[0;32m      1\u001b[0m \u001b[0mbasepath\u001b[0m \u001b[1;33m=\u001b[0m \u001b[1;34m'../archive/PlantVillage'\u001b[0m\u001b[1;33m\u001b[0m\u001b[1;33m\u001b[0m\u001b[0m\n\u001b[0;32m      2\u001b[0m \u001b[1;33m\u001b[0m\u001b[0m\n\u001b[1;32m----> 3\u001b[1;33m \u001b[0mdirs\u001b[0m \u001b[1;33m=\u001b[0m \u001b[0mos\u001b[0m\u001b[1;33m.\u001b[0m\u001b[0mlistdir\u001b[0m\u001b[1;33m(\u001b[0m\u001b[0mbasepath\u001b[0m\u001b[1;33m)\u001b[0m\u001b[1;33m\u001b[0m\u001b[1;33m\u001b[0m\u001b[0m\n\u001b[0m\u001b[0;32m      4\u001b[0m \u001b[1;33m\u001b[0m\u001b[0m\n\u001b[0;32m      5\u001b[0m \u001b[0mclassNames\u001b[0m \u001b[1;33m=\u001b[0m \u001b[0mlist\u001b[0m\u001b[1;33m(\u001b[0m\u001b[0mset\u001b[0m\u001b[1;33m(\u001b[0m\u001b[1;33m[\u001b[0m\u001b[1;33m(\u001b[0m\u001b[0mi\u001b[0m\u001b[1;33m.\u001b[0m\u001b[0msplit\u001b[0m\u001b[1;33m(\u001b[0m\u001b[1;34m\"__\"\u001b[0m\u001b[1;33m)\u001b[0m\u001b[1;33m)\u001b[0m\u001b[1;33m[\u001b[0m\u001b[1;36m0\u001b[0m\u001b[1;33m]\u001b[0m \u001b[1;32mfor\u001b[0m \u001b[0mi\u001b[0m \u001b[1;32min\u001b[0m \u001b[0mdirs\u001b[0m\u001b[1;33m]\u001b[0m\u001b[1;33m)\u001b[0m\u001b[1;33m)\u001b[0m\u001b[1;33m\u001b[0m\u001b[1;33m\u001b[0m\u001b[0m\n",
      "\u001b[1;31mFileNotFoundError\u001b[0m: [WinError 3] The system cannot find the path specified: '../archive/PlantVillage'"
     ]
    }
   ],
   "source": [
    "basepath = '../archive/PlantVillage'\n",
    "\n",
    "dirs = os.listdir(basepath)\n",
    "\n",
    "classNames = list(set([(i.split(\"__\"))[0] for i in dirs]))\n",
    "classNames"
   ]
  },
  {
   "cell_type": "code",
   "execution_count": 68,
   "metadata": {},
   "outputs": [],
   "source": [
    "\n",
    "for dir in classNames:\n",
    "    try:\n",
    "        os.makedirs('../data/'+dir)\n",
    "    except: pass"
   ]
  },
  {
   "cell_type": "code",
   "execution_count": 86,
   "metadata": {},
   "outputs": [
    {
     "name": "stdout",
     "output_type": "stream",
     "text": [
      "../archive/PlantVillage/Pepper_bell__Bacterial_spot\n",
      "../archive/PlantVillage/Pepper_bell__healthy\n",
      "../archive/PlantVillage/Potato__Early_blight\n",
      "../archive/PlantVillage/Potato__healthy\n",
      "../archive/PlantVillage/Potato__Late_blight\n",
      "../archive/PlantVillage/Tomato__Bacterial_spot\n",
      "../archive/PlantVillage/Tomato__Early_blight\n",
      "../archive/PlantVillage/Tomato__healthy\n",
      "../archive/PlantVillage/Tomato__Late_blight\n",
      "../archive/PlantVillage/Tomato__Leaf_Mold\n",
      "../archive/PlantVillage/Tomato__Septoria_leaf_spot\n",
      "../archive/PlantVillage/Tomato__Spider_mites_Two_spotted_spider_mite\n",
      "../archive/PlantVillage/Tomato__Target_Spot\n",
      "../archive/PlantVillage/Tomato__Tomato_mosaic_virus\n",
      "../archive/PlantVillage/Tomato__Tomato_YellowLeaf__Curl_Virus\n"
     ]
    }
   ],
   "source": [
    "subdirs = list([(i.split(\"__\")) for i in dirs])\n",
    "subdirs\n",
    "\n",
    "source_dir = '../archive/PlantVillage/'\n",
    "target_dir = '../data'\n",
    "# shutil.move(os.path.join(source_dir, file_name), target_dir)\n",
    "for dir in dirs:\n",
    "    print('../archive/PlantVillage/'+dir)\n",
    "    shutil.move(os.path.join(source_dir, dir), os.path.join(target_dir,dir.split('__')[0]+'/'+dir.split('__')[1]))\n",
    "    # shutil.copy('../archive/PlantVillage/'+dir,'../data/'+dir.split('__')[0]+dir.split('__')[1])\n"
   ]
  },
  {
   "cell_type": "code",
   "execution_count": 6,
   "metadata": {},
   "outputs": [
    {
     "name": "stdout",
     "output_type": "stream",
     "text": [
      "['Pepper_bell', 'Potato', 'Tomato']\n",
      "['Bacterial_spot', 'healthy']\n",
      "['Early_blight', 'healthy', 'Late_blight']\n",
      "['Bacterial_spot', 'Early_blight', 'healthy', 'Late_blight', 'Leaf_Mold', 'Septoria_leaf_spot', 'Spider_mites_Two_spotted_spider_mite', 'Target_Spot', 'Tomato_mosaic_virus', 'Tomato_YellowLeaf']\n"
     ]
    }
   ],
   "source": [
    "basepath = '../../data'\n",
    "\n",
    "dirs = os.listdir(basepath)\n",
    "print(dirs)\n",
    "\n",
    "for dir in dirs:\n",
    "    diseases = os.listdir('{}/{}'.format(basepath,dir))\n",
    "    string = ','.join(diseases)\n",
    "    print(diseases)\n",
    "    writepath = '../app/models/{}/{}.txt'.format(dir,dir)\n",
    "    file = open(writepath,\"w+\")\n",
    "    file.write(string)\n",
    "    file.close()"
   ]
  }
 ],
 "metadata": {
  "interpreter": {
   "hash": "99e2746e4555f88759d2b41aa7e330c735e7f4d30e7e63d3c75abd8c07d36ad7"
  },
  "kernelspec": {
   "display_name": "gputest",
   "language": "python",
   "name": "gputest"
  },
  "language_info": {
   "codemirror_mode": {
    "name": "ipython",
    "version": 3
   },
   "file_extension": ".py",
   "mimetype": "text/x-python",
   "name": "python",
   "nbconvert_exporter": "python",
   "pygments_lexer": "ipython3",
   "version": "3.10.0"
  },
  "orig_nbformat": 4
 },
 "nbformat": 4,
 "nbformat_minor": 2
}
